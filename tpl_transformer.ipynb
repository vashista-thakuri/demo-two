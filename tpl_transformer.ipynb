{
 "cells": [
  {
   "cell_type": "markdown",
   "id": "5a9fefb2",
   "metadata": {},
   "source": [
    "# Create Features for Transformation"
   ]
  },
  {
   "cell_type": "code",
   "execution_count": 1,
   "id": "42d5b2bb",
   "metadata": {},
   "outputs": [],
   "source": [
    "import pandas as pd\n",
    "import numpy as np"
   ]
  },
  {
   "cell_type": "markdown",
   "id": "020d86f8",
   "metadata": {},
   "source": [
    "Read sample data"
   ]
  },
  {
   "cell_type": "code",
   "execution_count": 2,
   "id": "1bec434b",
   "metadata": {},
   "outputs": [],
   "source": [
    "df = pd.read_csv(\"data/syn_marriot_data.csv\")"
   ]
  },
  {
   "cell_type": "code",
   "execution_count": 3,
   "id": "d92e0a1c",
   "metadata": {},
   "outputs": [
    {
     "data": {
      "text/html": [
       "<div>\n",
       "<style scoped>\n",
       "    .dataframe tbody tr th:only-of-type {\n",
       "        vertical-align: middle;\n",
       "    }\n",
       "\n",
       "    .dataframe tbody tr th {\n",
       "        vertical-align: top;\n",
       "    }\n",
       "\n",
       "    .dataframe thead th {\n",
       "        text-align: right;\n",
       "    }\n",
       "</style>\n",
       "<table border=\"1\" class=\"dataframe\">\n",
       "  <thead>\n",
       "    <tr style=\"text-align: right;\">\n",
       "      <th></th>\n",
       "      <th>scorupdt00_id</th>\n",
       "      <th>client_name</th>\n",
       "      <th>member_key</th>\n",
       "      <th>paid_amount</th>\n",
       "      <th>insert_date</th>\n",
       "      <th>patient_dob</th>\n",
       "      <th>icd1</th>\n",
       "      <th>icd2</th>\n",
       "      <th>icd3</th>\n",
       "      <th>icd4</th>\n",
       "      <th>icd5</th>\n",
       "      <th>server</th>\n",
       "      <th>database</th>\n",
       "    </tr>\n",
       "  </thead>\n",
       "  <tbody>\n",
       "    <tr>\n",
       "      <th>0</th>\n",
       "      <td>2450901</td>\n",
       "      <td>MARRIOT</td>\n",
       "      <td>848191</td>\n",
       "      <td>1989.01</td>\n",
       "      <td>2022-7-02 5:18:36.036</td>\n",
       "      <td>1982-3-07</td>\n",
       "      <td>S99922A</td>\n",
       "      <td>S61209A</td>\n",
       "      <td>NaN</td>\n",
       "      <td>NaN</td>\n",
       "      <td>NaN</td>\n",
       "      <td>DEN06SQL04</td>\n",
       "      <td>INS_POSTPAY_MARRIOTT_MULTI</td>\n",
       "    </tr>\n",
       "    <tr>\n",
       "      <th>1</th>\n",
       "      <td>2450901</td>\n",
       "      <td>MARRIOT</td>\n",
       "      <td>971572</td>\n",
       "      <td>6787.77</td>\n",
       "      <td>2022-1-12 19:49:44.044</td>\n",
       "      <td>1994-3-15</td>\n",
       "      <td>G544</td>\n",
       "      <td>M05872</td>\n",
       "      <td>NaN</td>\n",
       "      <td>NaN</td>\n",
       "      <td>NaN</td>\n",
       "      <td>DEN06SQL04</td>\n",
       "      <td>INS_POSTPAY_MARRIOTT_MULTI</td>\n",
       "    </tr>\n",
       "    <tr>\n",
       "      <th>2</th>\n",
       "      <td>2450901</td>\n",
       "      <td>MARRIOT</td>\n",
       "      <td>676508</td>\n",
       "      <td>3165.36</td>\n",
       "      <td>2022-7-21 15:34:38.038</td>\n",
       "      <td>2001-9-27</td>\n",
       "      <td>P929</td>\n",
       "      <td>S86212A</td>\n",
       "      <td>NaN</td>\n",
       "      <td>NaN</td>\n",
       "      <td>NaN</td>\n",
       "      <td>DEN06SQL04</td>\n",
       "      <td>INS_POSTPAY_MARRIOTT_MULTI</td>\n",
       "    </tr>\n",
       "    <tr>\n",
       "      <th>3</th>\n",
       "      <td>2450901</td>\n",
       "      <td>MARRIOT</td>\n",
       "      <td>947758</td>\n",
       "      <td>2493.95</td>\n",
       "      <td>2022-8-05 10:31:59.059</td>\n",
       "      <td>2020-11-08</td>\n",
       "      <td>S62101D</td>\n",
       "      <td>J9589</td>\n",
       "      <td>NaN</td>\n",
       "      <td>NaN</td>\n",
       "      <td>NaN</td>\n",
       "      <td>DEN06SQL04</td>\n",
       "      <td>INS_POSTPAY_MARRIOTT_MULTI</td>\n",
       "    </tr>\n",
       "    <tr>\n",
       "      <th>4</th>\n",
       "      <td>2450901</td>\n",
       "      <td>MARRIOT</td>\n",
       "      <td>983055</td>\n",
       "      <td>3287.50</td>\n",
       "      <td>2022-9-05 8:41:56.056</td>\n",
       "      <td>2012-3-22</td>\n",
       "      <td>C4442</td>\n",
       "      <td>NaN</td>\n",
       "      <td>NaN</td>\n",
       "      <td>NaN</td>\n",
       "      <td>NaN</td>\n",
       "      <td>DEN06SQL04</td>\n",
       "      <td>INS_POSTPAY_MARRIOTT_MULTI</td>\n",
       "    </tr>\n",
       "  </tbody>\n",
       "</table>\n",
       "</div>"
      ],
      "text/plain": [
       "   scorupdt00_id client_name  member_key  paid_amount             insert_date  \\\n",
       "0        2450901     MARRIOT      848191      1989.01   2022-7-02 5:18:36.036   \n",
       "1        2450901     MARRIOT      971572      6787.77  2022-1-12 19:49:44.044   \n",
       "2        2450901     MARRIOT      676508      3165.36  2022-7-21 15:34:38.038   \n",
       "3        2450901     MARRIOT      947758      2493.95  2022-8-05 10:31:59.059   \n",
       "4        2450901     MARRIOT      983055      3287.50   2022-9-05 8:41:56.056   \n",
       "\n",
       "  patient_dob     icd1     icd2 icd3 icd4 icd5      server  \\\n",
       "0   1982-3-07  S99922A  S61209A  NaN  NaN  NaN  DEN06SQL04   \n",
       "1   1994-3-15     G544   M05872  NaN  NaN  NaN  DEN06SQL04   \n",
       "2   2001-9-27     P929  S86212A  NaN  NaN  NaN  DEN06SQL04   \n",
       "3  2020-11-08  S62101D    J9589  NaN  NaN  NaN  DEN06SQL04   \n",
       "4   2012-3-22    C4442      NaN  NaN  NaN  NaN  DEN06SQL04   \n",
       "\n",
       "                     database  \n",
       "0  INS_POSTPAY_MARRIOTT_MULTI  \n",
       "1  INS_POSTPAY_MARRIOTT_MULTI  \n",
       "2  INS_POSTPAY_MARRIOTT_MULTI  \n",
       "3  INS_POSTPAY_MARRIOTT_MULTI  \n",
       "4  INS_POSTPAY_MARRIOTT_MULTI  "
      ]
     },
     "execution_count": 3,
     "metadata": {},
     "output_type": "execute_result"
    }
   ],
   "source": [
    "df.head()"
   ]
  },
  {
   "cell_type": "code",
   "execution_count": 4,
   "id": "6f535ab8",
   "metadata": {},
   "outputs": [
    {
     "data": {
      "text/plain": [
       "scorupdt00_id      int64\n",
       "client_name       object\n",
       "member_key         int64\n",
       "paid_amount      float64\n",
       "insert_date       object\n",
       "patient_dob       object\n",
       "icd1              object\n",
       "icd2              object\n",
       "icd3              object\n",
       "icd4              object\n",
       "icd5              object\n",
       "server            object\n",
       "database          object\n",
       "dtype: object"
      ]
     },
     "execution_count": 4,
     "metadata": {},
     "output_type": "execute_result"
    }
   ],
   "source": [
    "df.dtypes"
   ]
  },
  {
   "cell_type": "code",
   "execution_count": 5,
   "id": "fc38fc7c",
   "metadata": {},
   "outputs": [
    {
     "data": {
      "text/plain": [
       "13000000"
      ]
     },
     "execution_count": 5,
     "metadata": {},
     "output_type": "execute_result"
    }
   ],
   "source": [
    "df.size"
   ]
  },
  {
   "cell_type": "code",
   "execution_count": 6,
   "id": "f7f4a05d",
   "metadata": {},
   "outputs": [
    {
     "data": {
      "text/plain": [
       "(1000000, 13)"
      ]
     },
     "execution_count": 6,
     "metadata": {},
     "output_type": "execute_result"
    }
   ],
   "source": [
    "df.shape"
   ]
  },
  {
   "cell_type": "code",
   "execution_count": 7,
   "id": "676015fd",
   "metadata": {},
   "outputs": [
    {
     "data": {
      "text/plain": [
       "2450901    1000000\n",
       "Name: scorupdt00_id, dtype: int64"
      ]
     },
     "execution_count": 7,
     "metadata": {},
     "output_type": "execute_result"
    }
   ],
   "source": [
    "df[\"scorupdt00_id\"].value_counts()"
   ]
  },
  {
   "cell_type": "code",
   "execution_count": 8,
   "id": "0dafa163",
   "metadata": {},
   "outputs": [
    {
     "data": {
      "text/plain": [
       "MARRIOT    1000000\n",
       "Name: client_name, dtype: int64"
      ]
     },
     "execution_count": 8,
     "metadata": {},
     "output_type": "execute_result"
    }
   ],
   "source": [
    "df[\"client_name\"].value_counts()"
   ]
  },
  {
   "cell_type": "code",
   "execution_count": 9,
   "id": "f68915a6",
   "metadata": {},
   "outputs": [
    {
     "data": {
      "text/plain": [
       "DEN06SQL04    1000000\n",
       "Name: server, dtype: int64"
      ]
     },
     "execution_count": 9,
     "metadata": {},
     "output_type": "execute_result"
    }
   ],
   "source": [
    "df[\"server\"].value_counts()"
   ]
  },
  {
   "cell_type": "code",
   "execution_count": 10,
   "id": "916e0fe7",
   "metadata": {},
   "outputs": [
    {
     "data": {
      "text/plain": [
       "INS_POSTPAY_MARRIOTT_MULTI    1000000\n",
       "Name: database, dtype: int64"
      ]
     },
     "execution_count": 10,
     "metadata": {},
     "output_type": "execute_result"
    }
   ],
   "source": [
    "df[\"database\"].value_counts()"
   ]
  },
  {
   "cell_type": "markdown",
   "id": "2493f658",
   "metadata": {},
   "source": [
    "columns: scorupdt00_id, client_name, server, database have only 1 unique value."
   ]
  },
  {
   "cell_type": "code",
   "execution_count": 11,
   "id": "b902aa9e",
   "metadata": {},
   "outputs": [
    {
     "data": {
      "text/plain": [
       "scorupdt00_id         0\n",
       "client_name           0\n",
       "member_key            0\n",
       "paid_amount           0\n",
       "insert_date           0\n",
       "patient_dob           0\n",
       "icd1                  0\n",
       "icd2             299972\n",
       "icd3             499910\n",
       "icd4             699923\n",
       "icd5             899282\n",
       "server                0\n",
       "database              0\n",
       "dtype: int64"
      ]
     },
     "execution_count": 11,
     "metadata": {},
     "output_type": "execute_result"
    }
   ],
   "source": [
    "df.isnull().sum(axis=0)"
   ]
  },
  {
   "cell_type": "code",
   "execution_count": 12,
   "id": "97f9232d",
   "metadata": {},
   "outputs": [
    {
     "data": {
      "text/plain": [
       "(1000000, 13)"
      ]
     },
     "execution_count": 12,
     "metadata": {},
     "output_type": "execute_result"
    }
   ],
   "source": [
    "df.shape"
   ]
  },
  {
   "cell_type": "markdown",
   "id": "74a63d68",
   "metadata": {},
   "source": [
    "Null values in each column"
   ]
  },
  {
   "cell_type": "code",
   "execution_count": 13,
   "id": "0a3ad420",
   "metadata": {},
   "outputs": [
    {
     "data": {
      "text/html": [
       "<div>\n",
       "<style scoped>\n",
       "    .dataframe tbody tr th:only-of-type {\n",
       "        vertical-align: middle;\n",
       "    }\n",
       "\n",
       "    .dataframe tbody tr th {\n",
       "        vertical-align: top;\n",
       "    }\n",
       "\n",
       "    .dataframe thead th {\n",
       "        text-align: right;\n",
       "    }\n",
       "</style>\n",
       "<table border=\"1\" class=\"dataframe\">\n",
       "  <thead>\n",
       "    <tr style=\"text-align: right;\">\n",
       "      <th></th>\n",
       "      <th>scorupdt00_id</th>\n",
       "      <th>member_key</th>\n",
       "      <th>paid_amount</th>\n",
       "    </tr>\n",
       "  </thead>\n",
       "  <tbody>\n",
       "    <tr>\n",
       "      <th>count</th>\n",
       "      <td>1000000.0</td>\n",
       "      <td>1000000.000000</td>\n",
       "      <td>1000000.000000</td>\n",
       "    </tr>\n",
       "    <tr>\n",
       "      <th>mean</th>\n",
       "      <td>2450901.0</td>\n",
       "      <td>800093.247326</td>\n",
       "      <td>5006.198137</td>\n",
       "    </tr>\n",
       "    <tr>\n",
       "      <th>std</th>\n",
       "      <td>0.0</td>\n",
       "      <td>115464.912688</td>\n",
       "      <td>2884.347923</td>\n",
       "    </tr>\n",
       "    <tr>\n",
       "      <th>min</th>\n",
       "      <td>2450901.0</td>\n",
       "      <td>600000.000000</td>\n",
       "      <td>10.000000</td>\n",
       "    </tr>\n",
       "    <tr>\n",
       "      <th>25%</th>\n",
       "      <td>2450901.0</td>\n",
       "      <td>700070.750000</td>\n",
       "      <td>2509.505000</td>\n",
       "    </tr>\n",
       "    <tr>\n",
       "      <th>50%</th>\n",
       "      <td>2450901.0</td>\n",
       "      <td>800164.000000</td>\n",
       "      <td>5005.225000</td>\n",
       "    </tr>\n",
       "    <tr>\n",
       "      <th>75%</th>\n",
       "      <td>2450901.0</td>\n",
       "      <td>900072.000000</td>\n",
       "      <td>7503.892500</td>\n",
       "    </tr>\n",
       "    <tr>\n",
       "      <th>max</th>\n",
       "      <td>2450901.0</td>\n",
       "      <td>999999.000000</td>\n",
       "      <td>10000.000000</td>\n",
       "    </tr>\n",
       "  </tbody>\n",
       "</table>\n",
       "</div>"
      ],
      "text/plain": [
       "       scorupdt00_id      member_key     paid_amount\n",
       "count      1000000.0  1000000.000000  1000000.000000\n",
       "mean       2450901.0   800093.247326     5006.198137\n",
       "std              0.0   115464.912688     2884.347923\n",
       "min        2450901.0   600000.000000       10.000000\n",
       "25%        2450901.0   700070.750000     2509.505000\n",
       "50%        2450901.0   800164.000000     5005.225000\n",
       "75%        2450901.0   900072.000000     7503.892500\n",
       "max        2450901.0   999999.000000    10000.000000"
      ]
     },
     "execution_count": 13,
     "metadata": {},
     "output_type": "execute_result"
    }
   ],
   "source": [
    "df.describe()"
   ]
  },
  {
   "cell_type": "code",
   "execution_count": 14,
   "id": "45107f2a",
   "metadata": {},
   "outputs": [
    {
     "data": {
      "text/plain": [
       "count    1000000.000000\n",
       "mean        5006.198137\n",
       "std         2884.347923\n",
       "min           10.000000\n",
       "25%         2509.505000\n",
       "50%         5005.225000\n",
       "75%         7503.892500\n",
       "max        10000.000000\n",
       "Name: paid_amount, dtype: float64"
      ]
     },
     "execution_count": 14,
     "metadata": {},
     "output_type": "execute_result"
    }
   ],
   "source": [
    "df.paid_amount.describe()"
   ]
  },
  {
   "cell_type": "markdown",
   "id": "84441394",
   "metadata": {},
   "source": [
    "Insight for paid_amount"
   ]
  },
  {
   "cell_type": "code",
   "execution_count": 15,
   "id": "32aaeb2f",
   "metadata": {},
   "outputs": [
    {
     "data": {
      "text/plain": [
       "Index(['scorupdt00_id', 'client_name', 'member_key', 'paid_amount',\n",
       "       'insert_date', 'patient_dob', 'icd1', 'icd2', 'icd3', 'icd4', 'icd5',\n",
       "       'server', 'database'],\n",
       "      dtype='object')"
      ]
     },
     "execution_count": 15,
     "metadata": {},
     "output_type": "execute_result"
    }
   ],
   "source": [
    "df.columns"
   ]
  },
  {
   "cell_type": "markdown",
   "id": "fccc47bc",
   "metadata": {},
   "source": [
    "### Parameters"
   ]
  },
  {
   "cell_type": "code",
   "execution_count": 16,
   "id": "b17b026a",
   "metadata": {},
   "outputs": [],
   "source": [
    "icd_columns = [\"icd1\",\"icd2\",\"icd3\",\"icd4\",\"icd5\"]"
   ]
  },
  {
   "cell_type": "markdown",
   "id": "787d6f34",
   "metadata": {},
   "source": [
    "what is icd_categories ?\n",
    "icd_categories = ?"
   ]
  },
  {
   "cell_type": "code",
   "execution_count": 17,
   "id": "aaf13176",
   "metadata": {},
   "outputs": [],
   "source": [
    "icd_categories = [\"S61\",\"J95\",\"C44\",\"M51\",\"Z12\"]"
   ]
  },
  {
   "cell_type": "code",
   "execution_count": 18,
   "id": "aa128e19",
   "metadata": {},
   "outputs": [],
   "source": [
    "primary_key = \"member_key\""
   ]
  },
  {
   "cell_type": "markdown",
   "id": "fe1c49c4",
   "metadata": {},
   "source": [
    "### extract_category_codes"
   ]
  },
  {
   "cell_type": "code",
   "execution_count": 19,
   "id": "17ea182d",
   "metadata": {},
   "outputs": [
    {
     "data": {
      "text/html": [
       "<div>\n",
       "<style scoped>\n",
       "    .dataframe tbody tr th:only-of-type {\n",
       "        vertical-align: middle;\n",
       "    }\n",
       "\n",
       "    .dataframe tbody tr th {\n",
       "        vertical-align: top;\n",
       "    }\n",
       "\n",
       "    .dataframe thead th {\n",
       "        text-align: right;\n",
       "    }\n",
       "</style>\n",
       "<table border=\"1\" class=\"dataframe\">\n",
       "  <thead>\n",
       "    <tr style=\"text-align: right;\">\n",
       "      <th></th>\n",
       "      <th>scorupdt00_id</th>\n",
       "      <th>client_name</th>\n",
       "      <th>member_key</th>\n",
       "      <th>paid_amount</th>\n",
       "      <th>insert_date</th>\n",
       "      <th>patient_dob</th>\n",
       "      <th>icd1</th>\n",
       "      <th>icd2</th>\n",
       "      <th>icd3</th>\n",
       "      <th>icd4</th>\n",
       "      <th>icd5</th>\n",
       "      <th>server</th>\n",
       "      <th>database</th>\n",
       "    </tr>\n",
       "  </thead>\n",
       "  <tbody>\n",
       "    <tr>\n",
       "      <th>0</th>\n",
       "      <td>2450901</td>\n",
       "      <td>MARRIOT</td>\n",
       "      <td>848191</td>\n",
       "      <td>1989.01</td>\n",
       "      <td>2022-7-02 5:18:36.036</td>\n",
       "      <td>1982-3-07</td>\n",
       "      <td>S99</td>\n",
       "      <td>S61</td>\n",
       "      <td>NaN</td>\n",
       "      <td>NaN</td>\n",
       "      <td>NaN</td>\n",
       "      <td>DEN06SQL04</td>\n",
       "      <td>INS_POSTPAY_MARRIOTT_MULTI</td>\n",
       "    </tr>\n",
       "    <tr>\n",
       "      <th>1</th>\n",
       "      <td>2450901</td>\n",
       "      <td>MARRIOT</td>\n",
       "      <td>971572</td>\n",
       "      <td>6787.77</td>\n",
       "      <td>2022-1-12 19:49:44.044</td>\n",
       "      <td>1994-3-15</td>\n",
       "      <td>G54</td>\n",
       "      <td>M05</td>\n",
       "      <td>NaN</td>\n",
       "      <td>NaN</td>\n",
       "      <td>NaN</td>\n",
       "      <td>DEN06SQL04</td>\n",
       "      <td>INS_POSTPAY_MARRIOTT_MULTI</td>\n",
       "    </tr>\n",
       "    <tr>\n",
       "      <th>2</th>\n",
       "      <td>2450901</td>\n",
       "      <td>MARRIOT</td>\n",
       "      <td>676508</td>\n",
       "      <td>3165.36</td>\n",
       "      <td>2022-7-21 15:34:38.038</td>\n",
       "      <td>2001-9-27</td>\n",
       "      <td>P92</td>\n",
       "      <td>S86</td>\n",
       "      <td>NaN</td>\n",
       "      <td>NaN</td>\n",
       "      <td>NaN</td>\n",
       "      <td>DEN06SQL04</td>\n",
       "      <td>INS_POSTPAY_MARRIOTT_MULTI</td>\n",
       "    </tr>\n",
       "    <tr>\n",
       "      <th>3</th>\n",
       "      <td>2450901</td>\n",
       "      <td>MARRIOT</td>\n",
       "      <td>947758</td>\n",
       "      <td>2493.95</td>\n",
       "      <td>2022-8-05 10:31:59.059</td>\n",
       "      <td>2020-11-08</td>\n",
       "      <td>S62</td>\n",
       "      <td>J95</td>\n",
       "      <td>NaN</td>\n",
       "      <td>NaN</td>\n",
       "      <td>NaN</td>\n",
       "      <td>DEN06SQL04</td>\n",
       "      <td>INS_POSTPAY_MARRIOTT_MULTI</td>\n",
       "    </tr>\n",
       "    <tr>\n",
       "      <th>4</th>\n",
       "      <td>2450901</td>\n",
       "      <td>MARRIOT</td>\n",
       "      <td>983055</td>\n",
       "      <td>3287.50</td>\n",
       "      <td>2022-9-05 8:41:56.056</td>\n",
       "      <td>2012-3-22</td>\n",
       "      <td>C44</td>\n",
       "      <td>NaN</td>\n",
       "      <td>NaN</td>\n",
       "      <td>NaN</td>\n",
       "      <td>NaN</td>\n",
       "      <td>DEN06SQL04</td>\n",
       "      <td>INS_POSTPAY_MARRIOTT_MULTI</td>\n",
       "    </tr>\n",
       "    <tr>\n",
       "      <th>...</th>\n",
       "      <td>...</td>\n",
       "      <td>...</td>\n",
       "      <td>...</td>\n",
       "      <td>...</td>\n",
       "      <td>...</td>\n",
       "      <td>...</td>\n",
       "      <td>...</td>\n",
       "      <td>...</td>\n",
       "      <td>...</td>\n",
       "      <td>...</td>\n",
       "      <td>...</td>\n",
       "      <td>...</td>\n",
       "      <td>...</td>\n",
       "    </tr>\n",
       "    <tr>\n",
       "      <th>999995</th>\n",
       "      <td>2450901</td>\n",
       "      <td>MARRIOT</td>\n",
       "      <td>791106</td>\n",
       "      <td>2145.93</td>\n",
       "      <td>2022-5-16 9:38:31.031</td>\n",
       "      <td>1997-8-04</td>\n",
       "      <td>F90</td>\n",
       "      <td>S90</td>\n",
       "      <td>NaN</td>\n",
       "      <td>NaN</td>\n",
       "      <td>NaN</td>\n",
       "      <td>DEN06SQL04</td>\n",
       "      <td>INS_POSTPAY_MARRIOTT_MULTI</td>\n",
       "    </tr>\n",
       "    <tr>\n",
       "      <th>999996</th>\n",
       "      <td>2450901</td>\n",
       "      <td>MARRIOT</td>\n",
       "      <td>833073</td>\n",
       "      <td>775.75</td>\n",
       "      <td>2022-8-16 0:04:59.059</td>\n",
       "      <td>1976-6-07</td>\n",
       "      <td>S06</td>\n",
       "      <td>NaN</td>\n",
       "      <td>NaN</td>\n",
       "      <td>NaN</td>\n",
       "      <td>S82</td>\n",
       "      <td>DEN06SQL04</td>\n",
       "      <td>INS_POSTPAY_MARRIOTT_MULTI</td>\n",
       "    </tr>\n",
       "    <tr>\n",
       "      <th>999997</th>\n",
       "      <td>2450901</td>\n",
       "      <td>MARRIOT</td>\n",
       "      <td>892676</td>\n",
       "      <td>9588.92</td>\n",
       "      <td>2022-11-24 18:10:21.021</td>\n",
       "      <td>1989-4-09</td>\n",
       "      <td>S43</td>\n",
       "      <td>M12</td>\n",
       "      <td>NaN</td>\n",
       "      <td>Z12</td>\n",
       "      <td>NaN</td>\n",
       "      <td>DEN06SQL04</td>\n",
       "      <td>INS_POSTPAY_MARRIOTT_MULTI</td>\n",
       "    </tr>\n",
       "    <tr>\n",
       "      <th>999998</th>\n",
       "      <td>2450901</td>\n",
       "      <td>MARRIOT</td>\n",
       "      <td>634951</td>\n",
       "      <td>2128.62</td>\n",
       "      <td>2022-11-19 12:59:29.029</td>\n",
       "      <td>1975-10-26</td>\n",
       "      <td>S79</td>\n",
       "      <td>NaN</td>\n",
       "      <td>B97</td>\n",
       "      <td>NaN</td>\n",
       "      <td>NaN</td>\n",
       "      <td>DEN06SQL04</td>\n",
       "      <td>INS_POSTPAY_MARRIOTT_MULTI</td>\n",
       "    </tr>\n",
       "    <tr>\n",
       "      <th>999999</th>\n",
       "      <td>2450901</td>\n",
       "      <td>MARRIOT</td>\n",
       "      <td>877332</td>\n",
       "      <td>7133.88</td>\n",
       "      <td>2022-8-04 3:00:44.044</td>\n",
       "      <td>2021-1-26</td>\n",
       "      <td>R89</td>\n",
       "      <td>M51</td>\n",
       "      <td>NaN</td>\n",
       "      <td>NaN</td>\n",
       "      <td>NaN</td>\n",
       "      <td>DEN06SQL04</td>\n",
       "      <td>INS_POSTPAY_MARRIOTT_MULTI</td>\n",
       "    </tr>\n",
       "  </tbody>\n",
       "</table>\n",
       "<p>1000000 rows × 13 columns</p>\n",
       "</div>"
      ],
      "text/plain": [
       "        scorupdt00_id client_name  member_key  paid_amount  \\\n",
       "0             2450901     MARRIOT      848191      1989.01   \n",
       "1             2450901     MARRIOT      971572      6787.77   \n",
       "2             2450901     MARRIOT      676508      3165.36   \n",
       "3             2450901     MARRIOT      947758      2493.95   \n",
       "4             2450901     MARRIOT      983055      3287.50   \n",
       "...               ...         ...         ...          ...   \n",
       "999995        2450901     MARRIOT      791106      2145.93   \n",
       "999996        2450901     MARRIOT      833073       775.75   \n",
       "999997        2450901     MARRIOT      892676      9588.92   \n",
       "999998        2450901     MARRIOT      634951      2128.62   \n",
       "999999        2450901     MARRIOT      877332      7133.88   \n",
       "\n",
       "                    insert_date patient_dob icd1 icd2 icd3 icd4 icd5  \\\n",
       "0         2022-7-02 5:18:36.036   1982-3-07  S99  S61  NaN  NaN  NaN   \n",
       "1        2022-1-12 19:49:44.044   1994-3-15  G54  M05  NaN  NaN  NaN   \n",
       "2        2022-7-21 15:34:38.038   2001-9-27  P92  S86  NaN  NaN  NaN   \n",
       "3        2022-8-05 10:31:59.059  2020-11-08  S62  J95  NaN  NaN  NaN   \n",
       "4         2022-9-05 8:41:56.056   2012-3-22  C44  NaN  NaN  NaN  NaN   \n",
       "...                         ...         ...  ...  ...  ...  ...  ...   \n",
       "999995    2022-5-16 9:38:31.031   1997-8-04  F90  S90  NaN  NaN  NaN   \n",
       "999996    2022-8-16 0:04:59.059   1976-6-07  S06  NaN  NaN  NaN  S82   \n",
       "999997  2022-11-24 18:10:21.021   1989-4-09  S43  M12  NaN  Z12  NaN   \n",
       "999998  2022-11-19 12:59:29.029  1975-10-26  S79  NaN  B97  NaN  NaN   \n",
       "999999    2022-8-04 3:00:44.044   2021-1-26  R89  M51  NaN  NaN  NaN   \n",
       "\n",
       "            server                    database  \n",
       "0       DEN06SQL04  INS_POSTPAY_MARRIOTT_MULTI  \n",
       "1       DEN06SQL04  INS_POSTPAY_MARRIOTT_MULTI  \n",
       "2       DEN06SQL04  INS_POSTPAY_MARRIOTT_MULTI  \n",
       "3       DEN06SQL04  INS_POSTPAY_MARRIOTT_MULTI  \n",
       "4       DEN06SQL04  INS_POSTPAY_MARRIOTT_MULTI  \n",
       "...            ...                         ...  \n",
       "999995  DEN06SQL04  INS_POSTPAY_MARRIOTT_MULTI  \n",
       "999996  DEN06SQL04  INS_POSTPAY_MARRIOTT_MULTI  \n",
       "999997  DEN06SQL04  INS_POSTPAY_MARRIOTT_MULTI  \n",
       "999998  DEN06SQL04  INS_POSTPAY_MARRIOTT_MULTI  \n",
       "999999  DEN06SQL04  INS_POSTPAY_MARRIOTT_MULTI  \n",
       "\n",
       "[1000000 rows x 13 columns]"
      ]
     },
     "execution_count": 19,
     "metadata": {},
     "output_type": "execute_result"
    }
   ],
   "source": [
    "for col in icd_columns:\n",
    "    df[col] = df[col].str[:3]\n",
    "df"
   ]
  },
  {
   "cell_type": "markdown",
   "id": "25a3fee7",
   "metadata": {},
   "source": [
    "Scala Spark Eqivalent is in /desktop/tpl/sparkscala."
   ]
  },
  {
   "cell_type": "markdown",
   "id": "ded51319",
   "metadata": {},
   "source": [
    "### dummy_code_icd_codes"
   ]
  },
  {
   "cell_type": "markdown",
   "id": "74e7e5cb",
   "metadata": {},
   "source": [
    "#### Part 1"
   ]
  },
  {
   "cell_type": "code",
   "execution_count": 20,
   "id": "41841fd3",
   "metadata": {},
   "outputs": [
    {
     "data": {
      "text/plain": [
       "['member_key', 'icd1', 'icd2', 'icd3', 'icd4', 'icd5']"
      ]
     },
     "execution_count": 20,
     "metadata": {},
     "output_type": "execute_result"
    }
   ],
   "source": [
    "columns = [primary_key] + icd_columns\n",
    "columns"
   ]
  },
  {
   "cell_type": "markdown",
   "id": "4099a1f6",
   "metadata": {},
   "source": [
    "Converts primary_key which is initially a string into list and concats withs icd_columns"
   ]
  },
  {
   "cell_type": "code",
   "execution_count": 21,
   "id": "a73d28ee",
   "metadata": {},
   "outputs": [],
   "source": [
    "df_claims_icd = df[columns]"
   ]
  },
  {
   "cell_type": "code",
   "execution_count": 22,
   "id": "f2102be6",
   "metadata": {},
   "outputs": [
    {
     "data": {
      "text/html": [
       "<div>\n",
       "<style scoped>\n",
       "    .dataframe tbody tr th:only-of-type {\n",
       "        vertical-align: middle;\n",
       "    }\n",
       "\n",
       "    .dataframe tbody tr th {\n",
       "        vertical-align: top;\n",
       "    }\n",
       "\n",
       "    .dataframe thead th {\n",
       "        text-align: right;\n",
       "    }\n",
       "</style>\n",
       "<table border=\"1\" class=\"dataframe\">\n",
       "  <thead>\n",
       "    <tr style=\"text-align: right;\">\n",
       "      <th></th>\n",
       "      <th>member_key</th>\n",
       "      <th>icd1</th>\n",
       "      <th>icd2</th>\n",
       "      <th>icd3</th>\n",
       "      <th>icd4</th>\n",
       "      <th>icd5</th>\n",
       "    </tr>\n",
       "  </thead>\n",
       "  <tbody>\n",
       "    <tr>\n",
       "      <th>0</th>\n",
       "      <td>848191</td>\n",
       "      <td>S99</td>\n",
       "      <td>S61</td>\n",
       "      <td>NaN</td>\n",
       "      <td>NaN</td>\n",
       "      <td>NaN</td>\n",
       "    </tr>\n",
       "    <tr>\n",
       "      <th>1</th>\n",
       "      <td>971572</td>\n",
       "      <td>G54</td>\n",
       "      <td>M05</td>\n",
       "      <td>NaN</td>\n",
       "      <td>NaN</td>\n",
       "      <td>NaN</td>\n",
       "    </tr>\n",
       "    <tr>\n",
       "      <th>2</th>\n",
       "      <td>676508</td>\n",
       "      <td>P92</td>\n",
       "      <td>S86</td>\n",
       "      <td>NaN</td>\n",
       "      <td>NaN</td>\n",
       "      <td>NaN</td>\n",
       "    </tr>\n",
       "    <tr>\n",
       "      <th>3</th>\n",
       "      <td>947758</td>\n",
       "      <td>S62</td>\n",
       "      <td>J95</td>\n",
       "      <td>NaN</td>\n",
       "      <td>NaN</td>\n",
       "      <td>NaN</td>\n",
       "    </tr>\n",
       "    <tr>\n",
       "      <th>4</th>\n",
       "      <td>983055</td>\n",
       "      <td>C44</td>\n",
       "      <td>NaN</td>\n",
       "      <td>NaN</td>\n",
       "      <td>NaN</td>\n",
       "      <td>NaN</td>\n",
       "    </tr>\n",
       "  </tbody>\n",
       "</table>\n",
       "</div>"
      ],
      "text/plain": [
       "   member_key icd1 icd2 icd3 icd4 icd5\n",
       "0      848191  S99  S61  NaN  NaN  NaN\n",
       "1      971572  G54  M05  NaN  NaN  NaN\n",
       "2      676508  P92  S86  NaN  NaN  NaN\n",
       "3      947758  S62  J95  NaN  NaN  NaN\n",
       "4      983055  C44  NaN  NaN  NaN  NaN"
      ]
     },
     "execution_count": 22,
     "metadata": {},
     "output_type": "execute_result"
    }
   ],
   "source": [
    "df_claims_icd.head()"
   ]
  },
  {
   "cell_type": "markdown",
   "id": "22de8522",
   "metadata": {},
   "source": [
    "Joins the member_key column and icd_columns"
   ]
  },
  {
   "cell_type": "code",
   "execution_count": 23,
   "id": "9aeef064",
   "metadata": {},
   "outputs": [
    {
     "data": {
      "text/html": [
       "<div>\n",
       "<style scoped>\n",
       "    .dataframe tbody tr th:only-of-type {\n",
       "        vertical-align: middle;\n",
       "    }\n",
       "\n",
       "    .dataframe tbody tr th {\n",
       "        vertical-align: top;\n",
       "    }\n",
       "\n",
       "    .dataframe thead th {\n",
       "        text-align: right;\n",
       "    }\n",
       "</style>\n",
       "<table border=\"1\" class=\"dataframe\">\n",
       "  <thead>\n",
       "    <tr style=\"text-align: right;\">\n",
       "      <th></th>\n",
       "      <th>icd1</th>\n",
       "      <th>icd2</th>\n",
       "      <th>icd3</th>\n",
       "      <th>icd4</th>\n",
       "      <th>icd5</th>\n",
       "    </tr>\n",
       "    <tr>\n",
       "      <th>member_key</th>\n",
       "      <th></th>\n",
       "      <th></th>\n",
       "      <th></th>\n",
       "      <th></th>\n",
       "      <th></th>\n",
       "    </tr>\n",
       "  </thead>\n",
       "  <tbody>\n",
       "    <tr>\n",
       "      <th>848191</th>\n",
       "      <td>S99</td>\n",
       "      <td>S61</td>\n",
       "      <td>NaN</td>\n",
       "      <td>NaN</td>\n",
       "      <td>NaN</td>\n",
       "    </tr>\n",
       "    <tr>\n",
       "      <th>971572</th>\n",
       "      <td>G54</td>\n",
       "      <td>M05</td>\n",
       "      <td>NaN</td>\n",
       "      <td>NaN</td>\n",
       "      <td>NaN</td>\n",
       "    </tr>\n",
       "    <tr>\n",
       "      <th>676508</th>\n",
       "      <td>P92</td>\n",
       "      <td>S86</td>\n",
       "      <td>NaN</td>\n",
       "      <td>NaN</td>\n",
       "      <td>NaN</td>\n",
       "    </tr>\n",
       "    <tr>\n",
       "      <th>947758</th>\n",
       "      <td>S62</td>\n",
       "      <td>J95</td>\n",
       "      <td>NaN</td>\n",
       "      <td>NaN</td>\n",
       "      <td>NaN</td>\n",
       "    </tr>\n",
       "    <tr>\n",
       "      <th>983055</th>\n",
       "      <td>C44</td>\n",
       "      <td>NaN</td>\n",
       "      <td>NaN</td>\n",
       "      <td>NaN</td>\n",
       "      <td>NaN</td>\n",
       "    </tr>\n",
       "    <tr>\n",
       "      <th>...</th>\n",
       "      <td>...</td>\n",
       "      <td>...</td>\n",
       "      <td>...</td>\n",
       "      <td>...</td>\n",
       "      <td>...</td>\n",
       "    </tr>\n",
       "    <tr>\n",
       "      <th>791106</th>\n",
       "      <td>F90</td>\n",
       "      <td>S90</td>\n",
       "      <td>NaN</td>\n",
       "      <td>NaN</td>\n",
       "      <td>NaN</td>\n",
       "    </tr>\n",
       "    <tr>\n",
       "      <th>833073</th>\n",
       "      <td>S06</td>\n",
       "      <td>NaN</td>\n",
       "      <td>NaN</td>\n",
       "      <td>NaN</td>\n",
       "      <td>S82</td>\n",
       "    </tr>\n",
       "    <tr>\n",
       "      <th>892676</th>\n",
       "      <td>S43</td>\n",
       "      <td>M12</td>\n",
       "      <td>NaN</td>\n",
       "      <td>Z12</td>\n",
       "      <td>NaN</td>\n",
       "    </tr>\n",
       "    <tr>\n",
       "      <th>634951</th>\n",
       "      <td>S79</td>\n",
       "      <td>NaN</td>\n",
       "      <td>B97</td>\n",
       "      <td>NaN</td>\n",
       "      <td>NaN</td>\n",
       "    </tr>\n",
       "    <tr>\n",
       "      <th>877332</th>\n",
       "      <td>R89</td>\n",
       "      <td>M51</td>\n",
       "      <td>NaN</td>\n",
       "      <td>NaN</td>\n",
       "      <td>NaN</td>\n",
       "    </tr>\n",
       "  </tbody>\n",
       "</table>\n",
       "<p>1000000 rows × 5 columns</p>\n",
       "</div>"
      ],
      "text/plain": [
       "           icd1 icd2 icd3 icd4 icd5\n",
       "member_key                         \n",
       "848191      S99  S61  NaN  NaN  NaN\n",
       "971572      G54  M05  NaN  NaN  NaN\n",
       "676508      P92  S86  NaN  NaN  NaN\n",
       "947758      S62  J95  NaN  NaN  NaN\n",
       "983055      C44  NaN  NaN  NaN  NaN\n",
       "...         ...  ...  ...  ...  ...\n",
       "791106      F90  S90  NaN  NaN  NaN\n",
       "833073      S06  NaN  NaN  NaN  S82\n",
       "892676      S43  M12  NaN  Z12  NaN\n",
       "634951      S79  NaN  B97  NaN  NaN\n",
       "877332      R89  M51  NaN  NaN  NaN\n",
       "\n",
       "[1000000 rows x 5 columns]"
      ]
     },
     "execution_count": 23,
     "metadata": {},
     "output_type": "execute_result"
    }
   ],
   "source": [
    "df_claims_icd.set_index(primary_key)"
   ]
  },
  {
   "cell_type": "markdown",
   "id": "89067252",
   "metadata": {},
   "source": [
    "Sets the member_key column as the index."
   ]
  },
  {
   "cell_type": "markdown",
   "id": "f6fce2e6",
   "metadata": {},
   "source": [
    "Let us now create a test DataFrame in the following steps."
   ]
  },
  {
   "cell_type": "code",
   "execution_count": 24,
   "id": "6d7c594b",
   "metadata": {},
   "outputs": [],
   "source": [
    "test = df_claims_icd.set_index(primary_key)"
   ]
  },
  {
   "cell_type": "code",
   "execution_count": 25,
   "id": "1d815196",
   "metadata": {},
   "outputs": [
    {
     "data": {
      "text/html": [
       "<div>\n",
       "<style scoped>\n",
       "    .dataframe tbody tr th:only-of-type {\n",
       "        vertical-align: middle;\n",
       "    }\n",
       "\n",
       "    .dataframe tbody tr th {\n",
       "        vertical-align: top;\n",
       "    }\n",
       "\n",
       "    .dataframe thead th {\n",
       "        text-align: right;\n",
       "    }\n",
       "</style>\n",
       "<table border=\"1\" class=\"dataframe\">\n",
       "  <thead>\n",
       "    <tr style=\"text-align: right;\">\n",
       "      <th></th>\n",
       "      <th>icd1</th>\n",
       "      <th>icd2</th>\n",
       "      <th>icd3</th>\n",
       "      <th>icd4</th>\n",
       "      <th>icd5</th>\n",
       "    </tr>\n",
       "    <tr>\n",
       "      <th>member_key</th>\n",
       "      <th></th>\n",
       "      <th></th>\n",
       "      <th></th>\n",
       "      <th></th>\n",
       "      <th></th>\n",
       "    </tr>\n",
       "  </thead>\n",
       "  <tbody>\n",
       "    <tr>\n",
       "      <th>848191</th>\n",
       "      <td>NaN</td>\n",
       "      <td>S61</td>\n",
       "      <td>NaN</td>\n",
       "      <td>NaN</td>\n",
       "      <td>NaN</td>\n",
       "    </tr>\n",
       "    <tr>\n",
       "      <th>971572</th>\n",
       "      <td>NaN</td>\n",
       "      <td>NaN</td>\n",
       "      <td>NaN</td>\n",
       "      <td>NaN</td>\n",
       "      <td>NaN</td>\n",
       "    </tr>\n",
       "    <tr>\n",
       "      <th>676508</th>\n",
       "      <td>NaN</td>\n",
       "      <td>NaN</td>\n",
       "      <td>NaN</td>\n",
       "      <td>NaN</td>\n",
       "      <td>NaN</td>\n",
       "    </tr>\n",
       "    <tr>\n",
       "      <th>947758</th>\n",
       "      <td>NaN</td>\n",
       "      <td>J95</td>\n",
       "      <td>NaN</td>\n",
       "      <td>NaN</td>\n",
       "      <td>NaN</td>\n",
       "    </tr>\n",
       "    <tr>\n",
       "      <th>983055</th>\n",
       "      <td>C44</td>\n",
       "      <td>NaN</td>\n",
       "      <td>NaN</td>\n",
       "      <td>NaN</td>\n",
       "      <td>NaN</td>\n",
       "    </tr>\n",
       "    <tr>\n",
       "      <th>...</th>\n",
       "      <td>...</td>\n",
       "      <td>...</td>\n",
       "      <td>...</td>\n",
       "      <td>...</td>\n",
       "      <td>...</td>\n",
       "    </tr>\n",
       "    <tr>\n",
       "      <th>791106</th>\n",
       "      <td>NaN</td>\n",
       "      <td>NaN</td>\n",
       "      <td>NaN</td>\n",
       "      <td>NaN</td>\n",
       "      <td>NaN</td>\n",
       "    </tr>\n",
       "    <tr>\n",
       "      <th>833073</th>\n",
       "      <td>NaN</td>\n",
       "      <td>NaN</td>\n",
       "      <td>NaN</td>\n",
       "      <td>NaN</td>\n",
       "      <td>NaN</td>\n",
       "    </tr>\n",
       "    <tr>\n",
       "      <th>892676</th>\n",
       "      <td>NaN</td>\n",
       "      <td>NaN</td>\n",
       "      <td>NaN</td>\n",
       "      <td>Z12</td>\n",
       "      <td>NaN</td>\n",
       "    </tr>\n",
       "    <tr>\n",
       "      <th>634951</th>\n",
       "      <td>NaN</td>\n",
       "      <td>NaN</td>\n",
       "      <td>NaN</td>\n",
       "      <td>NaN</td>\n",
       "      <td>NaN</td>\n",
       "    </tr>\n",
       "    <tr>\n",
       "      <th>877332</th>\n",
       "      <td>NaN</td>\n",
       "      <td>M51</td>\n",
       "      <td>NaN</td>\n",
       "      <td>NaN</td>\n",
       "      <td>NaN</td>\n",
       "    </tr>\n",
       "  </tbody>\n",
       "</table>\n",
       "<p>1000000 rows × 5 columns</p>\n",
       "</div>"
      ],
      "text/plain": [
       "           icd1 icd2 icd3 icd4 icd5\n",
       "member_key                         \n",
       "848191      NaN  S61  NaN  NaN  NaN\n",
       "971572      NaN  NaN  NaN  NaN  NaN\n",
       "676508      NaN  NaN  NaN  NaN  NaN\n",
       "947758      NaN  J95  NaN  NaN  NaN\n",
       "983055      C44  NaN  NaN  NaN  NaN\n",
       "...         ...  ...  ...  ...  ...\n",
       "791106      NaN  NaN  NaN  NaN  NaN\n",
       "833073      NaN  NaN  NaN  NaN  NaN\n",
       "892676      NaN  NaN  NaN  Z12  NaN\n",
       "634951      NaN  NaN  NaN  NaN  NaN\n",
       "877332      NaN  M51  NaN  NaN  NaN\n",
       "\n",
       "[1000000 rows x 5 columns]"
      ]
     },
     "execution_count": 25,
     "metadata": {},
     "output_type": "execute_result"
    }
   ],
   "source": [
    "test.where(lambda x: x.isin(icd_categories))"
   ]
  },
  {
   "cell_type": "markdown",
   "id": "a5bf2050",
   "metadata": {},
   "source": [
    "Creates null values where icd_categories != (any of the icd columns)"
   ]
  },
  {
   "cell_type": "code",
   "execution_count": 26,
   "id": "d1acb5c2",
   "metadata": {},
   "outputs": [],
   "source": [
    "test = test.where(lambda x: x.isin(icd_categories))"
   ]
  },
  {
   "cell_type": "code",
   "execution_count": 27,
   "id": "cb730d83",
   "metadata": {},
   "outputs": [
    {
     "data": {
      "text/plain": [
       "<bound method DataFrame.stack of            icd1 icd2 icd3 icd4 icd5\n",
       "member_key                         \n",
       "848191      NaN  S61  NaN  NaN  NaN\n",
       "971572      NaN  NaN  NaN  NaN  NaN\n",
       "676508      NaN  NaN  NaN  NaN  NaN\n",
       "947758      NaN  J95  NaN  NaN  NaN\n",
       "983055      C44  NaN  NaN  NaN  NaN\n",
       "...         ...  ...  ...  ...  ...\n",
       "791106      NaN  NaN  NaN  NaN  NaN\n",
       "833073      NaN  NaN  NaN  NaN  NaN\n",
       "892676      NaN  NaN  NaN  Z12  NaN\n",
       "634951      NaN  NaN  NaN  NaN  NaN\n",
       "877332      NaN  M51  NaN  NaN  NaN\n",
       "\n",
       "[1000000 rows x 5 columns]>"
      ]
     },
     "execution_count": 27,
     "metadata": {},
     "output_type": "execute_result"
    }
   ],
   "source": [
    "test.stack"
   ]
  },
  {
   "cell_type": "code",
   "execution_count": 28,
   "id": "53ef83f2",
   "metadata": {},
   "outputs": [
    {
     "data": {
      "text/plain": [
       "member_key      \n",
       "848191      icd2    S61\n",
       "947758      icd2    J95\n",
       "983055      icd1    C44\n",
       "603473      icd3    S61\n",
       "611093      icd2    S61\n",
       "                   ... \n",
       "780092      icd1    S61\n",
       "925225      icd3    S61\n",
       "947425      icd3    M51\n",
       "892676      icd4    Z12\n",
       "877332      icd2    M51\n",
       "Length: 38892, dtype: object"
      ]
     },
     "execution_count": 28,
     "metadata": {},
     "output_type": "execute_result"
    }
   ],
   "source": [
    "test.stack()"
   ]
  },
  {
   "cell_type": "markdown",
   "id": "ef783e5d",
   "metadata": {},
   "source": [
    "Here, it removes the rows that have null values in every icd_columns."
   ]
  },
  {
   "cell_type": "code",
   "execution_count": 29,
   "id": "4d04a17a",
   "metadata": {},
   "outputs": [
    {
     "data": {
      "text/html": [
       "<div>\n",
       "<style scoped>\n",
       "    .dataframe tbody tr th:only-of-type {\n",
       "        vertical-align: middle;\n",
       "    }\n",
       "\n",
       "    .dataframe tbody tr th {\n",
       "        vertical-align: top;\n",
       "    }\n",
       "\n",
       "    .dataframe thead th {\n",
       "        text-align: right;\n",
       "    }\n",
       "</style>\n",
       "<table border=\"1\" class=\"dataframe\">\n",
       "  <thead>\n",
       "    <tr style=\"text-align: right;\">\n",
       "      <th></th>\n",
       "      <th></th>\n",
       "      <th>C44</th>\n",
       "      <th>J95</th>\n",
       "      <th>M51</th>\n",
       "      <th>S61</th>\n",
       "      <th>Z12</th>\n",
       "    </tr>\n",
       "    <tr>\n",
       "      <th>member_key</th>\n",
       "      <th></th>\n",
       "      <th></th>\n",
       "      <th></th>\n",
       "      <th></th>\n",
       "      <th></th>\n",
       "      <th></th>\n",
       "    </tr>\n",
       "  </thead>\n",
       "  <tbody>\n",
       "    <tr>\n",
       "      <th>848191</th>\n",
       "      <th>icd2</th>\n",
       "      <td>0</td>\n",
       "      <td>0</td>\n",
       "      <td>0</td>\n",
       "      <td>1</td>\n",
       "      <td>0</td>\n",
       "    </tr>\n",
       "    <tr>\n",
       "      <th>947758</th>\n",
       "      <th>icd2</th>\n",
       "      <td>0</td>\n",
       "      <td>1</td>\n",
       "      <td>0</td>\n",
       "      <td>0</td>\n",
       "      <td>0</td>\n",
       "    </tr>\n",
       "    <tr>\n",
       "      <th>983055</th>\n",
       "      <th>icd1</th>\n",
       "      <td>1</td>\n",
       "      <td>0</td>\n",
       "      <td>0</td>\n",
       "      <td>0</td>\n",
       "      <td>0</td>\n",
       "    </tr>\n",
       "    <tr>\n",
       "      <th>603473</th>\n",
       "      <th>icd3</th>\n",
       "      <td>0</td>\n",
       "      <td>0</td>\n",
       "      <td>0</td>\n",
       "      <td>1</td>\n",
       "      <td>0</td>\n",
       "    </tr>\n",
       "    <tr>\n",
       "      <th>611093</th>\n",
       "      <th>icd2</th>\n",
       "      <td>0</td>\n",
       "      <td>0</td>\n",
       "      <td>0</td>\n",
       "      <td>1</td>\n",
       "      <td>0</td>\n",
       "    </tr>\n",
       "    <tr>\n",
       "      <th>...</th>\n",
       "      <th>...</th>\n",
       "      <td>...</td>\n",
       "      <td>...</td>\n",
       "      <td>...</td>\n",
       "      <td>...</td>\n",
       "      <td>...</td>\n",
       "    </tr>\n",
       "    <tr>\n",
       "      <th>780092</th>\n",
       "      <th>icd1</th>\n",
       "      <td>0</td>\n",
       "      <td>0</td>\n",
       "      <td>0</td>\n",
       "      <td>1</td>\n",
       "      <td>0</td>\n",
       "    </tr>\n",
       "    <tr>\n",
       "      <th>925225</th>\n",
       "      <th>icd3</th>\n",
       "      <td>0</td>\n",
       "      <td>0</td>\n",
       "      <td>0</td>\n",
       "      <td>1</td>\n",
       "      <td>0</td>\n",
       "    </tr>\n",
       "    <tr>\n",
       "      <th>947425</th>\n",
       "      <th>icd3</th>\n",
       "      <td>0</td>\n",
       "      <td>0</td>\n",
       "      <td>1</td>\n",
       "      <td>0</td>\n",
       "      <td>0</td>\n",
       "    </tr>\n",
       "    <tr>\n",
       "      <th>892676</th>\n",
       "      <th>icd4</th>\n",
       "      <td>0</td>\n",
       "      <td>0</td>\n",
       "      <td>0</td>\n",
       "      <td>0</td>\n",
       "      <td>1</td>\n",
       "    </tr>\n",
       "    <tr>\n",
       "      <th>877332</th>\n",
       "      <th>icd2</th>\n",
       "      <td>0</td>\n",
       "      <td>0</td>\n",
       "      <td>1</td>\n",
       "      <td>0</td>\n",
       "      <td>0</td>\n",
       "    </tr>\n",
       "  </tbody>\n",
       "</table>\n",
       "<p>38892 rows × 5 columns</p>\n",
       "</div>"
      ],
      "text/plain": [
       "                 C44  J95  M51  S61  Z12\n",
       "member_key                              \n",
       "848191     icd2    0    0    0    1    0\n",
       "947758     icd2    0    1    0    0    0\n",
       "983055     icd1    1    0    0    0    0\n",
       "603473     icd3    0    0    0    1    0\n",
       "611093     icd2    0    0    0    1    0\n",
       "...              ...  ...  ...  ...  ...\n",
       "780092     icd1    0    0    0    1    0\n",
       "925225     icd3    0    0    0    1    0\n",
       "947425     icd3    0    0    1    0    0\n",
       "892676     icd4    0    0    0    0    1\n",
       "877332     icd2    0    0    1    0    0\n",
       "\n",
       "[38892 rows x 5 columns]"
      ]
     },
     "execution_count": 29,
     "metadata": {},
     "output_type": "execute_result"
    }
   ],
   "source": [
    "test.stack().str.get_dummies()"
   ]
  },
  {
   "cell_type": "markdown",
   "id": "023ff96d",
   "metadata": {},
   "source": [
    "Creates dummy values(i.e 1) for those icd_values that contain atleast one icd_categories and the rest is zero(0)."
   ]
  },
  {
   "cell_type": "code",
   "execution_count": 30,
   "id": "833f5a35",
   "metadata": {},
   "outputs": [],
   "source": [
    "test = test.stack().str.get_dummies()"
   ]
  },
  {
   "cell_type": "code",
   "execution_count": 31,
   "id": "3d02175c",
   "metadata": {},
   "outputs": [
    {
     "data": {
      "text/html": [
       "<div>\n",
       "<style scoped>\n",
       "    .dataframe tbody tr th:only-of-type {\n",
       "        vertical-align: middle;\n",
       "    }\n",
       "\n",
       "    .dataframe tbody tr th {\n",
       "        vertical-align: top;\n",
       "    }\n",
       "\n",
       "    .dataframe thead th {\n",
       "        text-align: right;\n",
       "    }\n",
       "</style>\n",
       "<table border=\"1\" class=\"dataframe\">\n",
       "  <thead>\n",
       "    <tr style=\"text-align: right;\">\n",
       "      <th></th>\n",
       "      <th>C44</th>\n",
       "      <th>J95</th>\n",
       "      <th>M51</th>\n",
       "      <th>S61</th>\n",
       "      <th>Z12</th>\n",
       "    </tr>\n",
       "    <tr>\n",
       "      <th>member_key</th>\n",
       "      <th></th>\n",
       "      <th></th>\n",
       "      <th></th>\n",
       "      <th></th>\n",
       "      <th></th>\n",
       "    </tr>\n",
       "  </thead>\n",
       "  <tbody>\n",
       "    <tr>\n",
       "      <th>600002</th>\n",
       "      <td>0</td>\n",
       "      <td>0</td>\n",
       "      <td>1</td>\n",
       "      <td>0</td>\n",
       "      <td>0</td>\n",
       "    </tr>\n",
       "    <tr>\n",
       "      <th>600007</th>\n",
       "      <td>0</td>\n",
       "      <td>0</td>\n",
       "      <td>0</td>\n",
       "      <td>1</td>\n",
       "      <td>0</td>\n",
       "    </tr>\n",
       "    <tr>\n",
       "      <th>600012</th>\n",
       "      <td>0</td>\n",
       "      <td>0</td>\n",
       "      <td>0</td>\n",
       "      <td>1</td>\n",
       "      <td>0</td>\n",
       "    </tr>\n",
       "    <tr>\n",
       "      <th>600013</th>\n",
       "      <td>0</td>\n",
       "      <td>0</td>\n",
       "      <td>1</td>\n",
       "      <td>0</td>\n",
       "      <td>0</td>\n",
       "    </tr>\n",
       "    <tr>\n",
       "      <th>600041</th>\n",
       "      <td>0</td>\n",
       "      <td>0</td>\n",
       "      <td>1</td>\n",
       "      <td>0</td>\n",
       "      <td>0</td>\n",
       "    </tr>\n",
       "    <tr>\n",
       "      <th>...</th>\n",
       "      <td>...</td>\n",
       "      <td>...</td>\n",
       "      <td>...</td>\n",
       "      <td>...</td>\n",
       "      <td>...</td>\n",
       "    </tr>\n",
       "    <tr>\n",
       "      <th>999913</th>\n",
       "      <td>0</td>\n",
       "      <td>0</td>\n",
       "      <td>0</td>\n",
       "      <td>1</td>\n",
       "      <td>0</td>\n",
       "    </tr>\n",
       "    <tr>\n",
       "      <th>999921</th>\n",
       "      <td>0</td>\n",
       "      <td>0</td>\n",
       "      <td>0</td>\n",
       "      <td>1</td>\n",
       "      <td>0</td>\n",
       "    </tr>\n",
       "    <tr>\n",
       "      <th>999939</th>\n",
       "      <td>0</td>\n",
       "      <td>0</td>\n",
       "      <td>0</td>\n",
       "      <td>1</td>\n",
       "      <td>0</td>\n",
       "    </tr>\n",
       "    <tr>\n",
       "      <th>999956</th>\n",
       "      <td>0</td>\n",
       "      <td>0</td>\n",
       "      <td>0</td>\n",
       "      <td>1</td>\n",
       "      <td>0</td>\n",
       "    </tr>\n",
       "    <tr>\n",
       "      <th>999961</th>\n",
       "      <td>1</td>\n",
       "      <td>0</td>\n",
       "      <td>0</td>\n",
       "      <td>0</td>\n",
       "      <td>0</td>\n",
       "    </tr>\n",
       "  </tbody>\n",
       "</table>\n",
       "<p>36521 rows × 5 columns</p>\n",
       "</div>"
      ],
      "text/plain": [
       "            C44  J95  M51  S61  Z12\n",
       "member_key                         \n",
       "600002        0    0    1    0    0\n",
       "600007        0    0    0    1    0\n",
       "600012        0    0    0    1    0\n",
       "600013        0    0    1    0    0\n",
       "600041        0    0    1    0    0\n",
       "...         ...  ...  ...  ...  ...\n",
       "999913        0    0    0    1    0\n",
       "999921        0    0    0    1    0\n",
       "999939        0    0    0    1    0\n",
       "999956        0    0    0    1    0\n",
       "999961        1    0    0    0    0\n",
       "\n",
       "[36521 rows x 5 columns]"
      ]
     },
     "execution_count": 31,
     "metadata": {},
     "output_type": "execute_result"
    }
   ],
   "source": [
    "test.groupby(primary_key).max()"
   ]
  },
  {
   "cell_type": "markdown",
   "id": "3f2a6dbd",
   "metadata": {},
   "source": [
    "This performs a groupby function using primary_key = \"member_key\" and returns the max() agg where for each icd there is max 1 value. i.e if 6 icd values are true then only max 5 icd_column values are retuned."
   ]
  },
  {
   "cell_type": "markdown",
   "id": "66a1a87b",
   "metadata": {},
   "source": [
    "------------------------------------------------------------------ Analysing code ------------------------------------------------------------------"
   ]
  },
  {
   "cell_type": "code",
   "execution_count": 32,
   "id": "95fad44f",
   "metadata": {},
   "outputs": [
    {
     "data": {
      "text/html": [
       "<div>\n",
       "<style scoped>\n",
       "    .dataframe tbody tr th:only-of-type {\n",
       "        vertical-align: middle;\n",
       "    }\n",
       "\n",
       "    .dataframe tbody tr th {\n",
       "        vertical-align: top;\n",
       "    }\n",
       "\n",
       "    .dataframe thead th {\n",
       "        text-align: right;\n",
       "    }\n",
       "</style>\n",
       "<table border=\"1\" class=\"dataframe\">\n",
       "  <thead>\n",
       "    <tr style=\"text-align: right;\">\n",
       "      <th></th>\n",
       "      <th></th>\n",
       "      <th>S61</th>\n",
       "    </tr>\n",
       "  </thead>\n",
       "  <tbody>\n",
       "    <tr>\n",
       "      <th>793560</th>\n",
       "      <th>icd2</th>\n",
       "      <td>1</td>\n",
       "    </tr>\n",
       "    <tr>\n",
       "      <th>894361</th>\n",
       "      <th>icd3</th>\n",
       "      <td>1</td>\n",
       "    </tr>\n",
       "  </tbody>\n",
       "</table>\n",
       "</div>"
      ],
      "text/plain": [
       "             S61\n",
       "793560 icd2    1\n",
       "894361 icd3    1"
      ]
     },
     "execution_count": 32,
     "metadata": {},
     "output_type": "execute_result"
    }
   ],
   "source": [
    "df.loc[df[\"member_key\"]==600012].where(lambda x: x.isin(icd_categories)).stack().str.get_dummies()"
   ]
  },
  {
   "cell_type": "markdown",
   "id": "738c5bcc",
   "metadata": {},
   "source": [
    "This checks how many icd_codes a member_key has."
   ]
  },
  {
   "cell_type": "code",
   "execution_count": 33,
   "id": "e4d4470e",
   "metadata": {},
   "outputs": [
    {
     "data": {
      "text/plain": [
       "S61    1\n",
       "dtype: int64"
      ]
     },
     "execution_count": 33,
     "metadata": {},
     "output_type": "execute_result"
    }
   ],
   "source": [
    "df.loc[df[\"member_key\"]==600012].where(lambda x: x.isin(icd_categories)).stack().str.get_dummies().max()"
   ]
  },
  {
   "cell_type": "markdown",
   "id": "4cc4aae8",
   "metadata": {},
   "source": [
    "This gives the max times icd_codes mentioned"
   ]
  },
  {
   "cell_type": "markdown",
   "id": "4a582e33",
   "metadata": {},
   "source": [
    "------------------------------------------------------------------ Analysing code ------------------------------------------------------------------"
   ]
  },
  {
   "cell_type": "code",
   "execution_count": 34,
   "id": "5f8fd41f",
   "metadata": {},
   "outputs": [],
   "source": [
    "test = test.groupby(primary_key).max()"
   ]
  },
  {
   "cell_type": "code",
   "execution_count": 35,
   "id": "12f1614d",
   "metadata": {},
   "outputs": [
    {
     "data": {
      "text/html": [
       "<div>\n",
       "<style scoped>\n",
       "    .dataframe tbody tr th:only-of-type {\n",
       "        vertical-align: middle;\n",
       "    }\n",
       "\n",
       "    .dataframe tbody tr th {\n",
       "        vertical-align: top;\n",
       "    }\n",
       "\n",
       "    .dataframe thead th {\n",
       "        text-align: right;\n",
       "    }\n",
       "</style>\n",
       "<table border=\"1\" class=\"dataframe\">\n",
       "  <thead>\n",
       "    <tr style=\"text-align: right;\">\n",
       "      <th></th>\n",
       "      <th>S61</th>\n",
       "      <th>J95</th>\n",
       "      <th>C44</th>\n",
       "      <th>M51</th>\n",
       "      <th>Z12</th>\n",
       "    </tr>\n",
       "    <tr>\n",
       "      <th>member_key</th>\n",
       "      <th></th>\n",
       "      <th></th>\n",
       "      <th></th>\n",
       "      <th></th>\n",
       "      <th></th>\n",
       "    </tr>\n",
       "  </thead>\n",
       "  <tbody>\n",
       "    <tr>\n",
       "      <th>600002</th>\n",
       "      <td>0</td>\n",
       "      <td>0</td>\n",
       "      <td>0</td>\n",
       "      <td>1</td>\n",
       "      <td>0</td>\n",
       "    </tr>\n",
       "    <tr>\n",
       "      <th>600007</th>\n",
       "      <td>1</td>\n",
       "      <td>0</td>\n",
       "      <td>0</td>\n",
       "      <td>0</td>\n",
       "      <td>0</td>\n",
       "    </tr>\n",
       "    <tr>\n",
       "      <th>600012</th>\n",
       "      <td>1</td>\n",
       "      <td>0</td>\n",
       "      <td>0</td>\n",
       "      <td>0</td>\n",
       "      <td>0</td>\n",
       "    </tr>\n",
       "    <tr>\n",
       "      <th>600013</th>\n",
       "      <td>0</td>\n",
       "      <td>0</td>\n",
       "      <td>0</td>\n",
       "      <td>1</td>\n",
       "      <td>0</td>\n",
       "    </tr>\n",
       "    <tr>\n",
       "      <th>600041</th>\n",
       "      <td>0</td>\n",
       "      <td>0</td>\n",
       "      <td>0</td>\n",
       "      <td>1</td>\n",
       "      <td>0</td>\n",
       "    </tr>\n",
       "    <tr>\n",
       "      <th>...</th>\n",
       "      <td>...</td>\n",
       "      <td>...</td>\n",
       "      <td>...</td>\n",
       "      <td>...</td>\n",
       "      <td>...</td>\n",
       "    </tr>\n",
       "    <tr>\n",
       "      <th>999913</th>\n",
       "      <td>1</td>\n",
       "      <td>0</td>\n",
       "      <td>0</td>\n",
       "      <td>0</td>\n",
       "      <td>0</td>\n",
       "    </tr>\n",
       "    <tr>\n",
       "      <th>999921</th>\n",
       "      <td>1</td>\n",
       "      <td>0</td>\n",
       "      <td>0</td>\n",
       "      <td>0</td>\n",
       "      <td>0</td>\n",
       "    </tr>\n",
       "    <tr>\n",
       "      <th>999939</th>\n",
       "      <td>1</td>\n",
       "      <td>0</td>\n",
       "      <td>0</td>\n",
       "      <td>0</td>\n",
       "      <td>0</td>\n",
       "    </tr>\n",
       "    <tr>\n",
       "      <th>999956</th>\n",
       "      <td>1</td>\n",
       "      <td>0</td>\n",
       "      <td>0</td>\n",
       "      <td>0</td>\n",
       "      <td>0</td>\n",
       "    </tr>\n",
       "    <tr>\n",
       "      <th>999961</th>\n",
       "      <td>0</td>\n",
       "      <td>0</td>\n",
       "      <td>1</td>\n",
       "      <td>0</td>\n",
       "      <td>0</td>\n",
       "    </tr>\n",
       "  </tbody>\n",
       "</table>\n",
       "<p>36521 rows × 5 columns</p>\n",
       "</div>"
      ],
      "text/plain": [
       "            S61  J95  C44  M51  Z12\n",
       "member_key                         \n",
       "600002        0    0    0    1    0\n",
       "600007        1    0    0    0    0\n",
       "600012        1    0    0    0    0\n",
       "600013        0    0    0    1    0\n",
       "600041        0    0    0    1    0\n",
       "...         ...  ...  ...  ...  ...\n",
       "999913        1    0    0    0    0\n",
       "999921        1    0    0    0    0\n",
       "999939        1    0    0    0    0\n",
       "999956        1    0    0    0    0\n",
       "999961        0    0    1    0    0\n",
       "\n",
       "[36521 rows x 5 columns]"
      ]
     },
     "execution_count": 35,
     "metadata": {},
     "output_type": "execute_result"
    }
   ],
   "source": [
    "test.reindex(columns=icd_categories, fill_value=0)"
   ]
  },
  {
   "cell_type": "code",
   "execution_count": 36,
   "id": "3a4e0a27",
   "metadata": {},
   "outputs": [
    {
     "data": {
      "text/plain": [
       "['S61', 'J95', 'C44', 'M51', 'Z12']"
      ]
     },
     "execution_count": 36,
     "metadata": {},
     "output_type": "execute_result"
    }
   ],
   "source": [
    "icd_categories"
   ]
  },
  {
   "cell_type": "markdown",
   "id": "6022789d",
   "metadata": {},
   "source": [
    "This reindex the DataFrame according to icd_categories."
   ]
  },
  {
   "cell_type": "code",
   "execution_count": 39,
   "id": "a72de68f",
   "metadata": {},
   "outputs": [],
   "source": [
    "df_result_1 = test.reindex(columns=icd_categories, fill_value=0)"
   ]
  },
  {
   "cell_type": "code",
   "execution_count": 40,
   "id": "b52ac815",
   "metadata": {},
   "outputs": [
    {
     "data": {
      "text/plain": [
       "(36521, 5)"
      ]
     },
     "execution_count": 40,
     "metadata": {},
     "output_type": "execute_result"
    }
   ],
   "source": [
    "df_result_1.shape"
   ]
  },
  {
   "cell_type": "markdown",
   "id": "d781a183",
   "metadata": {},
   "source": [
    "We see that the shape has changed from 1000000 rows. Here icd_columns are transformed into icd_categories and create a 0 and 1 feature for each icd_categories."
   ]
  },
  {
   "cell_type": "markdown",
   "id": "d483c327",
   "metadata": {},
   "source": [
    "So, What is happenning here is that we are:\n",
    "- creating a DataFrame with member_key as index and icd_columns\n",
    "- setting member_key as index to exclude it from row operations\n",
    "- setting null where icd_column[values] != icd_categories[values*]\n",
    "- stacking transposes the DataFrame and removes those rows which have all null values. Stack(level=,dropna=). dropna is true by default.\n",
    "- get dummies creates dummy values, i.e 1 if value exists else 0 on top of stack.\n",
    "- performing a groupby function using primary_key = \"member_key\" and returning max() i.e max 1 row for each icd values holding true for icd_categories. i.e if 6 icd values are true then only max 5 icd_column values are retuned since icd_column[] contains 5 valus.\n",
    "- reindex(columns=icd_categories, fill_value=0) places the columns in order of the list icd_categories."
   ]
  },
  {
   "cell_type": "markdown",
   "id": "4305255f",
   "metadata": {},
   "source": [
    "#### Part 2"
   ]
  },
  {
   "cell_type": "code",
   "execution_count": 63,
   "id": "eb5d9b99",
   "metadata": {},
   "outputs": [],
   "source": [
    "key_with_no_matching_icds = set(df[primary_key]) - set(df_result_1.index)"
   ]
  },
  {
   "cell_type": "markdown",
   "id": "dcddad89",
   "metadata": {},
   "source": [
    "Code Breakdown:"
   ]
  },
  {
   "cell_type": "code",
   "execution_count": 59,
   "id": "a8df9ceb",
   "metadata": {},
   "outputs": [
    {
     "data": {
      "text/plain": [
       "367178"
      ]
     },
     "execution_count": 59,
     "metadata": {},
     "output_type": "execute_result"
    }
   ],
   "source": [
    "len(set(df[primary_key]))"
   ]
  },
  {
   "cell_type": "code",
   "execution_count": 60,
   "id": "fd63ae2e",
   "metadata": {},
   "outputs": [
    {
     "data": {
      "text/plain": [
       "36521"
      ]
     },
     "execution_count": 60,
     "metadata": {},
     "output_type": "execute_result"
    }
   ],
   "source": [
    "len(set(df_result_1.index))"
   ]
  },
  {
   "cell_type": "markdown",
   "id": "c1111862",
   "metadata": {},
   "source": [
    "set puts DataFrame column in a set to remove duplicate values"
   ]
  },
  {
   "cell_type": "code",
   "execution_count": 64,
   "id": "63330837",
   "metadata": {},
   "outputs": [
    {
     "data": {
      "text/html": [
       "<div>\n",
       "<style scoped>\n",
       "    .dataframe tbody tr th:only-of-type {\n",
       "        vertical-align: middle;\n",
       "    }\n",
       "\n",
       "    .dataframe tbody tr th {\n",
       "        vertical-align: top;\n",
       "    }\n",
       "\n",
       "    .dataframe thead th {\n",
       "        text-align: right;\n",
       "    }\n",
       "</style>\n",
       "<table border=\"1\" class=\"dataframe\">\n",
       "  <thead>\n",
       "    <tr style=\"text-align: right;\">\n",
       "      <th></th>\n",
       "      <th>S61</th>\n",
       "      <th>J95</th>\n",
       "      <th>C44</th>\n",
       "      <th>M51</th>\n",
       "      <th>Z12</th>\n",
       "    </tr>\n",
       "  </thead>\n",
       "  <tbody>\n",
       "    <tr>\n",
       "      <th>600000</th>\n",
       "      <td>0</td>\n",
       "      <td>0</td>\n",
       "      <td>0</td>\n",
       "      <td>0</td>\n",
       "      <td>0</td>\n",
       "    </tr>\n",
       "    <tr>\n",
       "      <th>600001</th>\n",
       "      <td>0</td>\n",
       "      <td>0</td>\n",
       "      <td>0</td>\n",
       "      <td>0</td>\n",
       "      <td>0</td>\n",
       "    </tr>\n",
       "    <tr>\n",
       "      <th>600003</th>\n",
       "      <td>0</td>\n",
       "      <td>0</td>\n",
       "      <td>0</td>\n",
       "      <td>0</td>\n",
       "      <td>0</td>\n",
       "    </tr>\n",
       "    <tr>\n",
       "      <th>600004</th>\n",
       "      <td>0</td>\n",
       "      <td>0</td>\n",
       "      <td>0</td>\n",
       "      <td>0</td>\n",
       "      <td>0</td>\n",
       "    </tr>\n",
       "    <tr>\n",
       "      <th>600005</th>\n",
       "      <td>0</td>\n",
       "      <td>0</td>\n",
       "      <td>0</td>\n",
       "      <td>0</td>\n",
       "      <td>0</td>\n",
       "    </tr>\n",
       "    <tr>\n",
       "      <th>...</th>\n",
       "      <td>...</td>\n",
       "      <td>...</td>\n",
       "      <td>...</td>\n",
       "      <td>...</td>\n",
       "      <td>...</td>\n",
       "    </tr>\n",
       "    <tr>\n",
       "      <th>999992</th>\n",
       "      <td>0</td>\n",
       "      <td>0</td>\n",
       "      <td>0</td>\n",
       "      <td>0</td>\n",
       "      <td>0</td>\n",
       "    </tr>\n",
       "    <tr>\n",
       "      <th>999993</th>\n",
       "      <td>0</td>\n",
       "      <td>0</td>\n",
       "      <td>0</td>\n",
       "      <td>0</td>\n",
       "      <td>0</td>\n",
       "    </tr>\n",
       "    <tr>\n",
       "      <th>999994</th>\n",
       "      <td>0</td>\n",
       "      <td>0</td>\n",
       "      <td>0</td>\n",
       "      <td>0</td>\n",
       "      <td>0</td>\n",
       "    </tr>\n",
       "    <tr>\n",
       "      <th>999995</th>\n",
       "      <td>0</td>\n",
       "      <td>0</td>\n",
       "      <td>0</td>\n",
       "      <td>0</td>\n",
       "      <td>0</td>\n",
       "    </tr>\n",
       "    <tr>\n",
       "      <th>999999</th>\n",
       "      <td>0</td>\n",
       "      <td>0</td>\n",
       "      <td>0</td>\n",
       "      <td>0</td>\n",
       "      <td>0</td>\n",
       "    </tr>\n",
       "  </tbody>\n",
       "</table>\n",
       "<p>330657 rows × 5 columns</p>\n",
       "</div>"
      ],
      "text/plain": [
       "        S61  J95  C44  M51  Z12\n",
       "600000    0    0    0    0    0\n",
       "600001    0    0    0    0    0\n",
       "600003    0    0    0    0    0\n",
       "600004    0    0    0    0    0\n",
       "600005    0    0    0    0    0\n",
       "...     ...  ...  ...  ...  ...\n",
       "999992    0    0    0    0    0\n",
       "999993    0    0    0    0    0\n",
       "999994    0    0    0    0    0\n",
       "999995    0    0    0    0    0\n",
       "999999    0    0    0    0    0\n",
       "\n",
       "[330657 rows x 5 columns]"
      ]
     },
     "execution_count": 64,
     "metadata": {},
     "output_type": "execute_result"
    }
   ],
   "source": [
    "pd.DataFrame(0, index=key_with_no_matching_icds, columns=icd_categories)"
   ]
  },
  {
   "cell_type": "code",
   "execution_count": 67,
   "id": "a95dff36",
   "metadata": {},
   "outputs": [],
   "source": [
    "df_result_2 = pd.DataFrame(0, index=key_with_no_matching_icds, columns=icd_categories)"
   ]
  },
  {
   "cell_type": "markdown",
   "id": "79c17b8f",
   "metadata": {},
   "source": [
    "Creating DataFrame with member_key and icd_categories and inserting 0 for every value."
   ]
  },
  {
   "cell_type": "code",
   "execution_count": 71,
   "id": "86eb892a",
   "metadata": {},
   "outputs": [],
   "source": [
    "df_result_2.index.name = primary_key"
   ]
  },
  {
   "cell_type": "markdown",
   "id": "efdcebf4",
   "metadata": {},
   "source": [
    "Setting the index name for df_result_2 as member_key"
   ]
  },
  {
   "cell_type": "code",
   "execution_count": 74,
   "id": "27ae8c19",
   "metadata": {},
   "outputs": [],
   "source": [
    "assert len(set(df_result_2.index).intersection(set(df_result_1.index))) == 0"
   ]
  },
  {
   "cell_type": "markdown",
   "id": "9597a152",
   "metadata": {},
   "source": [
    "The above code is testing if len any row of df_result_2 exists in df_result_1"
   ]
  },
  {
   "cell_type": "code",
   "execution_count": 75,
   "id": "31d03dfd",
   "metadata": {},
   "outputs": [
    {
     "data": {
      "text/html": [
       "<div>\n",
       "<style scoped>\n",
       "    .dataframe tbody tr th:only-of-type {\n",
       "        vertical-align: middle;\n",
       "    }\n",
       "\n",
       "    .dataframe tbody tr th {\n",
       "        vertical-align: top;\n",
       "    }\n",
       "\n",
       "    .dataframe thead th {\n",
       "        text-align: right;\n",
       "    }\n",
       "</style>\n",
       "<table border=\"1\" class=\"dataframe\">\n",
       "  <thead>\n",
       "    <tr style=\"text-align: right;\">\n",
       "      <th></th>\n",
       "      <th>S61</th>\n",
       "      <th>J95</th>\n",
       "      <th>C44</th>\n",
       "      <th>M51</th>\n",
       "      <th>Z12</th>\n",
       "    </tr>\n",
       "    <tr>\n",
       "      <th>member_key</th>\n",
       "      <th></th>\n",
       "      <th></th>\n",
       "      <th></th>\n",
       "      <th></th>\n",
       "      <th></th>\n",
       "    </tr>\n",
       "  </thead>\n",
       "  <tbody>\n",
       "    <tr>\n",
       "      <th>600002</th>\n",
       "      <td>0</td>\n",
       "      <td>0</td>\n",
       "      <td>0</td>\n",
       "      <td>1</td>\n",
       "      <td>0</td>\n",
       "    </tr>\n",
       "    <tr>\n",
       "      <th>600007</th>\n",
       "      <td>1</td>\n",
       "      <td>0</td>\n",
       "      <td>0</td>\n",
       "      <td>0</td>\n",
       "      <td>0</td>\n",
       "    </tr>\n",
       "    <tr>\n",
       "      <th>600012</th>\n",
       "      <td>1</td>\n",
       "      <td>0</td>\n",
       "      <td>0</td>\n",
       "      <td>0</td>\n",
       "      <td>0</td>\n",
       "    </tr>\n",
       "    <tr>\n",
       "      <th>600013</th>\n",
       "      <td>0</td>\n",
       "      <td>0</td>\n",
       "      <td>0</td>\n",
       "      <td>1</td>\n",
       "      <td>0</td>\n",
       "    </tr>\n",
       "    <tr>\n",
       "      <th>600041</th>\n",
       "      <td>0</td>\n",
       "      <td>0</td>\n",
       "      <td>0</td>\n",
       "      <td>1</td>\n",
       "      <td>0</td>\n",
       "    </tr>\n",
       "    <tr>\n",
       "      <th>...</th>\n",
       "      <td>...</td>\n",
       "      <td>...</td>\n",
       "      <td>...</td>\n",
       "      <td>...</td>\n",
       "      <td>...</td>\n",
       "    </tr>\n",
       "    <tr>\n",
       "      <th>999992</th>\n",
       "      <td>0</td>\n",
       "      <td>0</td>\n",
       "      <td>0</td>\n",
       "      <td>0</td>\n",
       "      <td>0</td>\n",
       "    </tr>\n",
       "    <tr>\n",
       "      <th>999993</th>\n",
       "      <td>0</td>\n",
       "      <td>0</td>\n",
       "      <td>0</td>\n",
       "      <td>0</td>\n",
       "      <td>0</td>\n",
       "    </tr>\n",
       "    <tr>\n",
       "      <th>999994</th>\n",
       "      <td>0</td>\n",
       "      <td>0</td>\n",
       "      <td>0</td>\n",
       "      <td>0</td>\n",
       "      <td>0</td>\n",
       "    </tr>\n",
       "    <tr>\n",
       "      <th>999995</th>\n",
       "      <td>0</td>\n",
       "      <td>0</td>\n",
       "      <td>0</td>\n",
       "      <td>0</td>\n",
       "      <td>0</td>\n",
       "    </tr>\n",
       "    <tr>\n",
       "      <th>999999</th>\n",
       "      <td>0</td>\n",
       "      <td>0</td>\n",
       "      <td>0</td>\n",
       "      <td>0</td>\n",
       "      <td>0</td>\n",
       "    </tr>\n",
       "  </tbody>\n",
       "</table>\n",
       "<p>367178 rows × 5 columns</p>\n",
       "</div>"
      ],
      "text/plain": [
       "            S61  J95  C44  M51  Z12\n",
       "member_key                         \n",
       "600002        0    0    0    1    0\n",
       "600007        1    0    0    0    0\n",
       "600012        1    0    0    0    0\n",
       "600013        0    0    0    1    0\n",
       "600041        0    0    0    1    0\n",
       "...         ...  ...  ...  ...  ...\n",
       "999992        0    0    0    0    0\n",
       "999993        0    0    0    0    0\n",
       "999994        0    0    0    0    0\n",
       "999995        0    0    0    0    0\n",
       "999999        0    0    0    0    0\n",
       "\n",
       "[367178 rows x 5 columns]"
      ]
     },
     "execution_count": 75,
     "metadata": {},
     "output_type": "execute_result"
    }
   ],
   "source": [
    "pd.concat([df_result_1, df_result_2])"
   ]
  },
  {
   "cell_type": "code",
   "execution_count": 76,
   "id": "7d7cc9ce",
   "metadata": {},
   "outputs": [],
   "source": [
    "df_processed = pd.concat([df_result_1, df_result_2])"
   ]
  },
  {
   "cell_type": "markdown",
   "id": "7a7c22b8",
   "metadata": {},
   "source": [
    "Concatinating df_result_1 and df_result_2"
   ]
  },
  {
   "cell_type": "code",
   "execution_count": 77,
   "id": "8a9379ce",
   "metadata": {},
   "outputs": [],
   "source": [
    "assert df[primary_key].nunique() == (df_processed.shape[0])"
   ]
  },
  {
   "cell_type": "code",
   "execution_count": 83,
   "id": "7ae62a54",
   "metadata": {},
   "outputs": [
    {
     "data": {
      "text/plain": [
       "367178"
      ]
     },
     "execution_count": 83,
     "metadata": {},
     "output_type": "execute_result"
    }
   ],
   "source": [
    "df[primary_key].nunique()"
   ]
  },
  {
   "cell_type": "code",
   "execution_count": 87,
   "id": "639ddcf8",
   "metadata": {},
   "outputs": [
    {
     "data": {
      "text/plain": [
       "367178"
      ]
     },
     "execution_count": 87,
     "metadata": {},
     "output_type": "execute_result"
    }
   ],
   "source": [
    "df_processed.shape[0]"
   ]
  },
  {
   "cell_type": "markdown",
   "id": "c68c3572",
   "metadata": {},
   "source": [
    "Testing if number of unique member_keys == length of the df_processed"
   ]
  },
  {
   "cell_type": "markdown",
   "id": "bde370ea",
   "metadata": {},
   "source": [
    "So, What is happenning here is that we are:\n",
    "- Finding member_keys that does not exists in df_result_1\n",
    "- Creating DataFrame and making those member_key as index and icd_categories as columns\n",
    "- inserting 0 in icd_categories values\n",
    "- checking if any member_key of df_result_1 exists in df_result_2\n",
    "- merging the two DataFrames(df_result_1, df_result_2) to create the original whole DataFrame\n",
    "- testing if orginal df member_key unique values == df_processed member_key"
   ]
  },
  {
   "cell_type": "markdown",
   "id": "1c151bbe",
   "metadata": {},
   "source": [
    "# Convert scala spark code"
   ]
  },
  {
   "cell_type": "code",
   "execution_count": null,
   "id": "8f8eefd3",
   "metadata": {},
   "outputs": [],
   "source": []
  }
 ],
 "metadata": {
  "kernelspec": {
   "display_name": "Python 3 (ipykernel)",
   "language": "python",
   "name": "python3"
  },
  "language_info": {
   "codemirror_mode": {
    "name": "ipython",
    "version": 3
   },
   "file_extension": ".py",
   "mimetype": "text/x-python",
   "name": "python",
   "nbconvert_exporter": "python",
   "pygments_lexer": "ipython3",
   "version": "3.7.4"
  }
 },
 "nbformat": 4,
 "nbformat_minor": 5
}
